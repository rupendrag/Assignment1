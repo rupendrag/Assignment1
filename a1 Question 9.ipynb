{
 "cells": [
  {
   "cell_type": "code",
   "execution_count": 1,
   "metadata": {},
   "outputs": [
    {
     "name": "stdout",
     "output_type": "stream",
     "text": [
      "Reversed Stack: [1, 2, 3, 4, 5]\n"
     ]
    }
   ],
   "source": [
    "def reverse_stack(stack):\n",
    "    aux_stack = []\n",
    "\n",
    "    while stack:\n",
    "        aux_stack.append(stack.pop())\n",
    "\n",
    "    while aux_stack:\n",
    "        stack.append(aux_stack.pop())\n",
    "\n",
    "my_stack = [1, 2, 3, 4, 5]\n",
    "reverse_stack(my_stack)\n",
    "print(f\"Reversed Stack: {my_stack}\")"
   ]
  }
 ],
 "metadata": {
  "kernelspec": {
   "display_name": "Python 3",
   "language": "python",
   "name": "python3"
  },
  "language_info": {
   "codemirror_mode": {
    "name": "ipython",
    "version": 3
   },
   "file_extension": ".py",
   "mimetype": "text/x-python",
   "name": "python",
   "nbconvert_exporter": "python",
   "pygments_lexer": "ipython3",
   "version": "3.11.2"
  }
 },
 "nbformat": 4,
 "nbformat_minor": 2
}
