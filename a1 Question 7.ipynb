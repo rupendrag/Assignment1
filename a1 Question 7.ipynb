{
 "cells": [
  {
   "cell_type": "code",
   "execution_count": 1,
   "metadata": {},
   "outputs": [
    {
     "name": "stdout",
     "output_type": "stream",
     "text": [
      "Infix expression: ((2*3)+(5/6))\n"
     ]
    }
   ],
   "source": [
    "def is_operator(char):\n",
    "    return char in ['+', '-', '*', '/']\n",
    "\n",
    "def prefix_to_infix(prefix_expression):\n",
    "    stack = []\n",
    "    \n",
    "    for char in reversed(prefix_expression):\n",
    "        if not is_operator(char):\n",
    "            stack.append(char)\n",
    "        else:\n",
    "            operand1 = stack.pop()\n",
    "            operand2 = stack.pop()\n",
    "            expression = f\"({operand1}{char}{operand2})\"\n",
    "            stack.append(expression)\n",
    "    \n",
    "    return stack.pop()\n",
    "\n",
    "prefix_expr = \"+*23/56\"\n",
    "infix_expr = prefix_to_infix(prefix_expr)\n",
    "print(f\"Infix expression: {infix_expr}\")"
   ]
  }
 ],
 "metadata": {
  "kernelspec": {
   "display_name": "Python 3",
   "language": "python",
   "name": "python3"
  },
  "language_info": {
   "codemirror_mode": {
    "name": "ipython",
    "version": 3
   },
   "file_extension": ".py",
   "mimetype": "text/x-python",
   "name": "python",
   "nbconvert_exporter": "python",
   "pygments_lexer": "ipython3",
   "version": "3.11.2"
  }
 },
 "nbformat": 4,
 "nbformat_minor": 2
}
