{
 "cells": [
  {
   "cell_type": "code",
   "execution_count": 2,
   "metadata": {},
   "outputs": [
    {
     "name": "stdout",
     "output_type": "stream",
     "text": [
      "The first repeated character is: a\n"
     ]
    }
   ],
   "source": [
    "def first_repeated_char(s):\n",
    "    char_set = set()\n",
    "\n",
    "    for char in s:\n",
    "        if char in char_set:\n",
    "            return char\n",
    "        char_set.add(char)\n",
    "\n",
    "    return None\n",
    "\n",
    "# Example usage:\n",
    "my_string = \"abcdefgha\"\n",
    "result = first_repeated_char(my_string)\n",
    "\n",
    "if result is not None:\n",
    "    print(f\"The first repeated character is: {result}\")\n",
    "else:\n",
    "    print(\"No repeated characters found.\")"
   ]
  }
 ],
 "metadata": {
  "kernelspec": {
   "display_name": "Python 3",
   "language": "python",
   "name": "python3"
  },
  "language_info": {
   "codemirror_mode": {
    "name": "ipython",
    "version": 3
   },
   "file_extension": ".py",
   "mimetype": "text/x-python",
   "name": "python",
   "nbconvert_exporter": "python",
   "pygments_lexer": "ipython3",
   "version": "3.11.2"
  }
 },
 "nbformat": 4,
 "nbformat_minor": 2
}
