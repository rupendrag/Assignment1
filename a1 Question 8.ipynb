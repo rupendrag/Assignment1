{
 "cells": [
  {
   "cell_type": "code",
   "execution_count": 1,
   "metadata": {},
   "outputs": [
    {
     "name": "stdout",
     "output_type": "stream",
     "text": [
      "All brackets are balanced.\n"
     ]
    }
   ],
   "source": [
    "def are_brackets_balanced(code_snippet):\n",
    "    stack = []\n",
    "    bracket_pairs = {')': '(', '}': '{', ']': '['}\n",
    "\n",
    "    for char in code_snippet:\n",
    "        if char in bracket_pairs.values():\n",
    "            stack.append(char)\n",
    "        elif char in bracket_pairs.keys():\n",
    "            if not stack or stack.pop() != bracket_pairs[char]:\n",
    "                return False\n",
    "\n",
    "    return not stack\n",
    "\n",
    "# Example usage:\n",
    "code_snippet = \"(a + b) * {c - [d / e]}\"\n",
    "result = are_brackets_balanced(code_snippet)\n",
    "\n",
    "if result:\n",
    "    print(\"All brackets are balanced.\")\n",
    "else:\n",
    "    print(\"Brackets are not balanced.\")"
   ]
  }
 ],
 "metadata": {
  "kernelspec": {
   "display_name": "Python 3",
   "language": "python",
   "name": "python3"
  },
  "language_info": {
   "codemirror_mode": {
    "name": "ipython",
    "version": 3
   },
   "file_extension": ".py",
   "mimetype": "text/x-python",
   "name": "python",
   "nbconvert_exporter": "python",
   "pygments_lexer": "ipython3",
   "version": "3.11.2"
  }
 },
 "nbformat": 4,
 "nbformat_minor": 2
}
