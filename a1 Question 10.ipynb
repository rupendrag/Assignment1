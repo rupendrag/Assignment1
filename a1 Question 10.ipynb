{
 "cells": [
  {
   "cell_type": "code",
   "execution_count": 1,
   "metadata": {},
   "outputs": [
    {
     "name": "stdout",
     "output_type": "stream",
     "text": [
      "[(6, 4), (7, 3), (8, 2), (9, 1)]\n"
     ]
    }
   ],
   "source": [
    "def find_smallest_number(stack):\n",
    "    if not stack:\n",
    "        return None\n",
    "\n",
    "    smallest = stack.pop()\n",
    "\n",
    "    while stack:\n",
    "        current = stack.pop()\n",
    "        smallest = min(smallest, current)\n",
    "\n",
    "    return smallest\n",
    "\n",
    "my_stack = [5, 3, 8, 1, 7]\n",
    "smallest_number = find_smallest_number(my_stack)\n",
    "\n",
    "if smallest_number is not None:\n",
    "    print(f\"The smallest number in the stack is: {smallest_number}\")\n",
    "else:\n",
    "    print(\"The stack is empty.\")"
   ]
  }
 ],
 "metadata": {
  "kernelspec": {
   "display_name": "Python 3",
   "language": "python",
   "name": "python3"
  },
  "language_info": {
   "codemirror_mode": {
    "name": "ipython",
    "version": 3
   },
   "file_extension": ".py",
   "mimetype": "text/x-python",
   "name": "python",
   "nbconvert_exporter": "python",
   "pygments_lexer": "ipython3",
   "version": "3.11.2"
  }
 },
 "nbformat": 4,
 "nbformat_minor": 2
}
