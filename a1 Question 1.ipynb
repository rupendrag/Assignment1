{
 "cells": [
  {
   "cell_type": "code",
   "execution_count": 1,
   "metadata": {},
   "outputs": [
    {
     "name": "stdout",
     "output_type": "stream",
     "text": [
      "[(6, 4), (7, 3), (8, 2), (9, 1)]\n"
     ]
    }
   ],
   "source": [
    "def find_pairs(arr, target_sum):\n",
    "    pairs = []\n",
    "    seen_numbers = set()\n",
    "\n",
    "    for num in arr:\n",
    "        complement = target_sum - num\n",
    "\n",
    "        if complement in seen_numbers:\n",
    "            pairs.append((num, complement))\n",
    "\n",
    "        seen_numbers.add(num)\n",
    "\n",
    "    return pairs\n",
    "\n",
    "array = [1, 2, 3, 4, 5, 6, 7, 8, 9]\n",
    "target_sum = 10\n",
    "\n",
    "result = find_pairs(array, target_sum)\n",
    "print(result)"
   ]
  }
 ],
 "metadata": {
  "kernelspec": {
   "display_name": "Python 3",
   "language": "python",
   "name": "python3"
  },
  "language_info": {
   "codemirror_mode": {
    "name": "ipython",
    "version": 3
   },
   "file_extension": ".py",
   "mimetype": "text/x-python",
   "name": "python",
   "nbconvert_exporter": "python",
   "pygments_lexer": "ipython3",
   "version": "3.11.2"
  }
 },
 "nbformat": 4,
 "nbformat_minor": 2
}
